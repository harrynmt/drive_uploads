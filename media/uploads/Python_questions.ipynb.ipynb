{
  "nbformat": 4,
  "nbformat_minor": 0,
  "metadata": {
    "colab": {
      "provenance": []
    },
    "kernelspec": {
      "name": "python3",
      "display_name": "Python 3"
    },
    "language_info": {
      "name": "python"
    }
  },
  "cells": [
    {
      "cell_type": "markdown",
      "source": [
        "1.Write a program to print the given number is odd or even."
      ],
      "metadata": {
        "id": "qAL88-KxlStr"
      }
    },
    {
      "cell_type": "code",
      "source": [],
      "metadata": {
        "id": "o7r9ciBuldaC"
      },
      "execution_count": null,
      "outputs": []
    },
    {
      "cell_type": "markdown",
      "source": [
        "2.Write a program to find the given number is positive or negative."
      ],
      "metadata": {
        "id": "_UkrO61Gld5I"
      }
    },
    {
      "cell_type": "code",
      "source": [],
      "metadata": {
        "id": "oaRrgQPrli0Y"
      },
      "execution_count": null,
      "outputs": []
    },
    {
      "cell_type": "markdown",
      "source": [
        "3.Write a program to find the sum of two numbers."
      ],
      "metadata": {
        "id": "CFxykaAAlqgV"
      }
    },
    {
      "cell_type": "code",
      "source": [],
      "metadata": {
        "id": "_GJomDCzlvo3"
      },
      "execution_count": null,
      "outputs": []
    }
  ]
}